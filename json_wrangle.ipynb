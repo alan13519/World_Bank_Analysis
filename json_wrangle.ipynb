{
 "cells": [
  {
   "cell_type": "code",
   "execution_count": 1,
   "metadata": {},
   "outputs": [],
   "source": [
    "import pandas as pd\n",
    "import matplotlib.pyplot as plt\n",
    "import json\n",
    "from pandas.io.json import json_normalize"
   ]
  },
  {
   "cell_type": "code",
   "execution_count": 2,
   "metadata": {},
   "outputs": [],
   "source": [
    "#We are working with processed world bank project data\n",
    "with open('data/world_bank_projects.json') as data_file:    \n",
    "    world_bank_data = json.load(data_file) #Load it up for analysis"
   ]
  },
  {
   "cell_type": "code",
   "execution_count": 3,
   "metadata": {},
   "outputs": [
    {
     "data": {
      "text/plain": [
       "Index(['_id', 'approvalfy', 'board_approval_month', 'boardapprovaldate',\n",
       "       'borrower', 'closingdate', 'country_namecode', 'countrycode',\n",
       "       'countryname', 'countryshortname', 'docty', 'envassesmentcategorycode',\n",
       "       'grantamt', 'ibrdcommamt', 'id', 'idacommamt', 'impagency',\n",
       "       'lendinginstr', 'lendinginstrtype', 'lendprojectcost',\n",
       "       'majorsector_percent', 'mjsector_namecode', 'mjtheme',\n",
       "       'mjtheme_namecode', 'mjthemecode', 'prodline', 'prodlinetext',\n",
       "       'productlinetype', 'project_abstract', 'project_name', 'projectdocs',\n",
       "       'projectfinancialtype', 'projectstatusdisplay', 'regionname', 'sector',\n",
       "       'sector1', 'sector2', 'sector3', 'sector4', 'sector_namecode',\n",
       "       'sectorcode', 'source', 'status', 'supplementprojectflg', 'theme1',\n",
       "       'theme_namecode', 'themecode', 'totalamt', 'totalcommamt', 'url'],\n",
       "      dtype='object')"
      ]
     },
     "execution_count": 3,
     "metadata": {},
     "output_type": "execute_result"
    }
   ],
   "source": [
    "#Load and check out the columns\n",
    "json_df = pd.DataFrame(world_bank_data)\n",
    "json_df.columns"
   ]
  },
  {
   "cell_type": "code",
   "execution_count": 4,
   "metadata": {},
   "outputs": [
    {
     "data": {
      "text/html": [
       "<div>\n",
       "<style scoped>\n",
       "    .dataframe tbody tr th:only-of-type {\n",
       "        vertical-align: middle;\n",
       "    }\n",
       "\n",
       "    .dataframe tbody tr th {\n",
       "        vertical-align: top;\n",
       "    }\n",
       "\n",
       "    .dataframe thead th {\n",
       "        text-align: right;\n",
       "    }\n",
       "</style>\n",
       "<table border=\"1\" class=\"dataframe\">\n",
       "  <thead>\n",
       "    <tr style=\"text-align: right;\">\n",
       "      <th></th>\n",
       "      <th>boardapprovaldate</th>\n",
       "      <th>countryname</th>\n",
       "      <th>countryshortname</th>\n",
       "      <th>mjtheme_namecode</th>\n",
       "      <th>project_name</th>\n",
       "      <th>totalamt</th>\n",
       "    </tr>\n",
       "  </thead>\n",
       "  <tbody>\n",
       "    <tr>\n",
       "      <th>0</th>\n",
       "      <td>2013-11-12T00:00:00Z</td>\n",
       "      <td>Federal Democratic Republic of Ethiopia</td>\n",
       "      <td>Ethiopia</td>\n",
       "      <td>[{'code': '8', 'name': 'Human development'}, {...</td>\n",
       "      <td>Ethiopia General Education Quality Improvement...</td>\n",
       "      <td>130000000</td>\n",
       "    </tr>\n",
       "    <tr>\n",
       "      <th>1</th>\n",
       "      <td>2013-11-04T00:00:00Z</td>\n",
       "      <td>Republic of Tunisia</td>\n",
       "      <td>Tunisia</td>\n",
       "      <td>[{'code': '1', 'name': 'Economic management'},...</td>\n",
       "      <td>TN: DTF Social Protection Reforms Support</td>\n",
       "      <td>0</td>\n",
       "    </tr>\n",
       "    <tr>\n",
       "      <th>2</th>\n",
       "      <td>2013-11-01T00:00:00Z</td>\n",
       "      <td>Tuvalu</td>\n",
       "      <td>Tuvalu</td>\n",
       "      <td>[{'code': '5', 'name': 'Trade and integration'...</td>\n",
       "      <td>Tuvalu Aviation Investment Project - Additiona...</td>\n",
       "      <td>6060000</td>\n",
       "    </tr>\n",
       "    <tr>\n",
       "      <th>3</th>\n",
       "      <td>2013-10-31T00:00:00Z</td>\n",
       "      <td>Republic of Yemen</td>\n",
       "      <td>Yemen, Republic of</td>\n",
       "      <td>[{'code': '7', 'name': 'Social dev/gender/incl...</td>\n",
       "      <td>Gov't and Civil Society Organization Partnership</td>\n",
       "      <td>0</td>\n",
       "    </tr>\n",
       "    <tr>\n",
       "      <th>4</th>\n",
       "      <td>2013-10-31T00:00:00Z</td>\n",
       "      <td>Kingdom of Lesotho</td>\n",
       "      <td>Lesotho</td>\n",
       "      <td>[{'code': '5', 'name': 'Trade and integration'...</td>\n",
       "      <td>Second Private Sector Competitiveness and Econ...</td>\n",
       "      <td>13100000</td>\n",
       "    </tr>\n",
       "  </tbody>\n",
       "</table>\n",
       "</div>"
      ],
      "text/plain": [
       "      boardapprovaldate                              countryname  \\\n",
       "0  2013-11-12T00:00:00Z  Federal Democratic Republic of Ethiopia   \n",
       "1  2013-11-04T00:00:00Z                      Republic of Tunisia   \n",
       "2  2013-11-01T00:00:00Z                                   Tuvalu   \n",
       "3  2013-10-31T00:00:00Z                        Republic of Yemen   \n",
       "4  2013-10-31T00:00:00Z                       Kingdom of Lesotho   \n",
       "\n",
       "     countryshortname                                   mjtheme_namecode  \\\n",
       "0            Ethiopia  [{'code': '8', 'name': 'Human development'}, {...   \n",
       "1             Tunisia  [{'code': '1', 'name': 'Economic management'},...   \n",
       "2              Tuvalu  [{'code': '5', 'name': 'Trade and integration'...   \n",
       "3  Yemen, Republic of  [{'code': '7', 'name': 'Social dev/gender/incl...   \n",
       "4             Lesotho  [{'code': '5', 'name': 'Trade and integration'...   \n",
       "\n",
       "                                        project_name   totalamt  \n",
       "0  Ethiopia General Education Quality Improvement...  130000000  \n",
       "1          TN: DTF Social Protection Reforms Support          0  \n",
       "2  Tuvalu Aviation Investment Project - Additiona...    6060000  \n",
       "3   Gov't and Civil Society Organization Partnership          0  \n",
       "4  Second Private Sector Competitiveness and Econ...   13100000  "
      ]
     },
     "execution_count": 4,
     "metadata": {},
     "output_type": "execute_result"
    }
   ],
   "source": [
    "#There are a lot of data, so let's remove some of them\n",
    "json_df_less = json_df[['boardapprovaldate',\n",
    "                        'countryname', 'countryshortname',\n",
    "                        'mjtheme_namecode', 'project_name',\n",
    "                        'totalamt']]\n",
    "json_df_less.head(5)"
   ]
  },
  {
   "cell_type": "markdown",
   "metadata": {},
   "source": [
    "#### Let us find the 10 countries with the most projects"
   ]
  },
  {
   "cell_type": "code",
   "execution_count": 5,
   "metadata": {},
   "outputs": [
    {
     "data": {
      "text/plain": [
       "People's Republic of China         19\n",
       "Republic of Indonesia              19\n",
       "Socialist Republic of Vietnam      17\n",
       "Republic of India                  16\n",
       "Republic of Yemen                  13\n",
       "Kingdom of Morocco                 12\n",
       "Nepal                              12\n",
       "People's Republic of Bangladesh    12\n",
       "Republic of Mozambique             11\n",
       "Africa                             11\n",
       "Name: countryname, dtype: int64"
      ]
     },
     "execution_count": 5,
     "metadata": {},
     "output_type": "execute_result"
    }
   ],
   "source": [
    "#Top ten countries with most projects\n",
    "json_df_less['countryname'].value_counts().head(10)"
   ]
  },
  {
   "cell_type": "code",
   "execution_count": 6,
   "metadata": {},
   "outputs": [
    {
     "data": {
      "text/plain": [
       "<matplotlib.axes._subplots.AxesSubplot at 0x1d99f91a4e0>"
      ]
     },
     "execution_count": 6,
     "metadata": {},
     "output_type": "execute_result"
    },
    {
     "data": {
      "image/png": "[encoded data removed]",
      "text/plain": [
       "<Figure size 432x288 with 1 Axes>"
      ]
     },
     "metadata": {},
     "output_type": "display_data"
    }
   ],
   "source": [
    "#Plot the data for more visualization\n",
    "json_df_less['countryname'].value_counts().head(10).plot(kind='barh',\n",
    "                                                         title=\"Countries with the most projects(Top 10)\",\n",
    "                                                        xticks=range(0,20,2))"
   ]
  },
  {
   "cell_type": "markdown",
   "metadata": {},
   "source": [
    "#### 10 Major Project themes"
   ]
  },
  {
   "cell_type": "code",
   "execution_count": 7,
   "metadata": {
    "scrolled": false
   },
   "outputs": [
    {
     "data": {
      "text/plain": [
       "Environment and natural resources management    223\n",
       "Rural development                               202\n",
       "Human development                               197\n",
       "Public sector governance                        184\n",
       "Social protection and risk management           158\n",
       "Financial and private sector development        130\n",
       "                                                122\n",
       "Social dev/gender/inclusion                     119\n",
       "Trade and integration                            72\n",
       "Urban development                                47\n",
       "Name: name, dtype: int64"
      ]
     },
     "execution_count": 7,
     "metadata": {},
     "output_type": "execute_result"
    }
   ],
   "source": [
    "#Top ten major project themes (Some themes are counted multiple times in a single project)\n",
    "wb_df_norm = json_normalize(world_bank_data, 'mjtheme_namecode')\n",
    "wb_df_norm['name'].value_counts().head(10)"
   ]
  },
  {
   "cell_type": "code",
   "execution_count": 8,
   "metadata": {},
   "outputs": [
    {
     "data": {
      "text/plain": [
       "<matplotlib.axes._subplots.AxesSubplot at 0x1d99fa83ba8>"
      ]
     },
     "execution_count": 8,
     "metadata": {},
     "output_type": "execute_result"
    },
    {
     "data": {
      "image/png": "[encoded data removed]",
      "text/plain": [
       "<Figure size 432x288 with 1 Axes>"
      ]
     },
     "metadata": {},
     "output_type": "display_data"
    }
   ],
   "source": [
    "#Plot the data for more visualization\n",
    "wb_df_norm['name'].value_counts().head(10).plot(kind='barh',\n",
    "                                                         title=\"Top 10 Major themes\",\n",
    "                                                        xticks=range(0,200,20))"
   ]
  },
  {
   "cell_type": "markdown",
   "metadata": {},
   "source": [
    "###### From the output above, we can see that there are 122 missing values."
   ]
  },
  {
   "cell_type": "code",
   "execution_count": 9,
   "metadata": {},
   "outputs": [
    {
     "data": {
      "text/plain": [
       "11    250\n",
       "10    216\n",
       "8     210\n",
       "2     199\n",
       "6     168\n",
       "4     146\n",
       "7     130\n",
       "5      77\n",
       "9      50\n",
       "1      38\n",
       "Name: code, dtype: int64"
      ]
     },
     "execution_count": 9,
     "metadata": {},
     "output_type": "execute_result"
    }
   ],
   "source": [
    "wb_df_norm['code'].value_counts().head(10)"
   ]
  },
  {
   "cell_type": "markdown",
   "metadata": {},
   "source": [
    "###### We can see that the output above shows that just the codes are available, only the names are missing"
   ]
  },
  {
   "cell_type": "markdown",
   "metadata": {},
   "source": [
    "#### Create a dataframe with the missing names filled in."
   ]
  },
  {
   "cell_type": "code",
   "execution_count": 10,
   "metadata": {},
   "outputs": [
    {
     "data": {
      "text/plain": [
       "{'1': 'Economic management',\n",
       " '2': 'Public sector governance',\n",
       " '3': 'Rule of law',\n",
       " '4': 'Financial and private sector development',\n",
       " '5': 'Trade and integration',\n",
       " '6': 'Social protection and risk management',\n",
       " '7': 'Social dev/gender/inclusion',\n",
       " '8': 'Human development',\n",
       " '9': 'Urban development',\n",
       " '10': 'Rural development',\n",
       " '11': 'Environment and natural resources management'}"
      ]
     },
     "execution_count": 10,
     "metadata": {},
     "output_type": "execute_result"
    }
   ],
   "source": [
    "#Manually created dictionary for comparison purposes\n",
    "theme_code_dict = {'1':'Economic management',\n",
    "             '2':'Public sector governance',\n",
    "             '3':'Rule of law',\n",
    "             '4':'Financial and private sector development',\n",
    "             '5':'Trade and integration',\n",
    "             '6':'Social protection and risk management',\n",
    "             '7':'Social dev/gender/inclusion',\n",
    "             '8':'Human development',\n",
    "             '9':'Urban development',\n",
    "             '10':'Rural development',\n",
    "             '11':'Environment and natural resources management',\n",
    "            }\n",
    "#Print dict\n",
    "theme_code_dict"
   ]
  },
  {
   "cell_type": "code",
   "execution_count": 11,
   "metadata": {},
   "outputs": [
    {
     "data": {
      "text/plain": [
       "{'8': 'Human development',\n",
       " '1': 'Economic management',\n",
       " '6': 'Social protection and risk management',\n",
       " '5': 'Trade and integration',\n",
       " '2': 'Public sector governance',\n",
       " '11': 'Environment and natural resources management',\n",
       " '7': 'Social dev/gender/inclusion',\n",
       " '4': 'Financial and private sector development',\n",
       " '10': 'Rural development',\n",
       " '9': 'Urban development',\n",
       " '3': 'Rule of law'}"
      ]
     },
     "execution_count": 11,
     "metadata": {},
     "output_type": "execute_result"
    }
   ],
   "source": [
    "#Non-manual version\n",
    "json_norm = json_normalize(world_bank_data, 'mjtheme_namecode') #Split column into own table\n",
    "jn_no_empty = json_norm[json_norm.name != ''].set_index('code')['name'] #Remove empty names \n",
    "theme_code_dict = jn_no_empty.drop_duplicates().to_dict() #Drop duplicates and convert to dictionary\n",
    "theme_code_dict #Print dict"
   ]
  },
  {
   "cell_type": "code",
   "execution_count": 12,
   "metadata": {},
   "outputs": [],
   "source": [
    "#Function to replace mjtheme name using code from dictionary\n",
    "def replace_empty(theme_dict_list):\n",
    "    for theme_dict in theme_dict_list:\n",
    "        if theme_dict['name'] == '':\n",
    "            theme_dict['name'] = theme_code_dict[theme_dict['code']]\n",
    "    return theme_dict"
   ]
  },
  {
   "cell_type": "code",
   "execution_count": 13,
   "metadata": {},
   "outputs": [
    {
     "data": {
      "text/plain": [
       "0    {'code': '11', 'name': 'Environment and natura...\n",
       "1    {'code': '6', 'name': 'Social protection and r...\n",
       "2    {'code': '6', 'name': 'Social protection and r...\n",
       "3    {'code': '7', 'name': 'Social dev/gender/inclu...\n",
       "4    {'code': '4', 'name': 'Financial and private s...\n",
       "5    {'code': '6', 'name': 'Social protection and r...\n",
       "6    {'code': '4', 'name': 'Financial and private s...\n",
       "7           {'code': '8', 'name': 'Human development'}\n",
       "8    {'code': '7', 'name': 'Social dev/gender/inclu...\n",
       "9    {'code': '2', 'name': 'Public sector governance'}\n",
       "Name: mjtheme_namecode, dtype: object"
      ]
     },
     "execution_count": 13,
     "metadata": {},
     "output_type": "execute_result"
    }
   ],
   "source": [
    "filled_json_df = json_df.copy(deep=True)\n",
    "filled_json_df['mjtheme_namecode'].apply(replace_empty).head(10)"
   ]
  },
  {
   "cell_type": "code",
   "execution_count": 14,
   "metadata": {},
   "outputs": [
    {
     "data": {
      "text/plain": [
       "Environment and natural resources management    250\n",
       "Rural development                               216\n",
       "Human development                               210\n",
       "Public sector governance                        199\n",
       "Social protection and risk management           168\n",
       "Financial and private sector development        146\n",
       "Social dev/gender/inclusion                     130\n",
       "Trade and integration                            77\n",
       "Urban development                                50\n",
       "Economic management                              38\n",
       "Name: name, dtype: int64"
      ]
     },
     "execution_count": 14,
     "metadata": {},
     "output_type": "execute_result"
    }
   ],
   "source": [
    "#Top ten major project themes (Some themes are counted multiple times in a single project)\n",
    "wb_df_clean = json_normalize(world_bank_data, 'mjtheme_namecode')\n",
    "wb_df_clean['name'].value_counts().head(10)"
   ]
  },
  {
   "cell_type": "code",
   "execution_count": 16,
   "metadata": {},
   "outputs": [
    {
     "data": {
      "text/plain": [
       "<matplotlib.axes._subplots.AxesSubplot at 0x1d99fb2e4a8>"
      ]
     },
     "execution_count": 16,
     "metadata": {},
     "output_type": "execute_result"
    },
    {
     "data": {
      "image/png": "[encoded data removed]",
      "text/plain": [
       "<Figure size 432x288 with 1 Axes>"
      ]
     },
     "metadata": {},
     "output_type": "display_data"
    }
   ],
   "source": [
    "#Plotted after cleaning\n",
    "wb_df_clean['name'].value_counts().head(10).plot(kind='barh',\n",
    "                                                         title=\"Top 10 Major themes\",\n",
    "                                                        xticks=range(0,200,20))"
   ]
  },
  {
   "cell_type": "code",
   "execution_count": 15,
   "metadata": {},
   "outputs": [
    {
     "data": {
      "text/html": [
       "<div>\n",
       "<style scoped>\n",
       "    .dataframe tbody tr th:only-of-type {\n",
       "        vertical-align: middle;\n",
       "    }\n",
       "\n",
       "    .dataframe tbody tr th {\n",
       "        vertical-align: top;\n",
       "    }\n",
       "\n",
       "    .dataframe thead th {\n",
       "        text-align: right;\n",
       "    }\n",
       "</style>\n",
       "<table border=\"1\" class=\"dataframe\">\n",
       "  <thead>\n",
       "    <tr style=\"text-align: right;\">\n",
       "      <th></th>\n",
       "      <th>boardapprovaldate</th>\n",
       "      <th>countryname</th>\n",
       "      <th>countryshortname</th>\n",
       "      <th>mjtheme_namecode</th>\n",
       "      <th>project_name</th>\n",
       "      <th>totalamt</th>\n",
       "    </tr>\n",
       "  </thead>\n",
       "  <tbody>\n",
       "    <tr>\n",
       "      <th>0</th>\n",
       "      <td>2013-11-12T00:00:00Z</td>\n",
       "      <td>Federal Democratic Republic of Ethiopia</td>\n",
       "      <td>Ethiopia</td>\n",
       "      <td>[{'code': '8', 'name': 'Human development'}, {...</td>\n",
       "      <td>Ethiopia General Education Quality Improvement...</td>\n",
       "      <td>130000000</td>\n",
       "    </tr>\n",
       "    <tr>\n",
       "      <th>1</th>\n",
       "      <td>2013-11-04T00:00:00Z</td>\n",
       "      <td>Republic of Tunisia</td>\n",
       "      <td>Tunisia</td>\n",
       "      <td>[{'code': '1', 'name': 'Economic management'},...</td>\n",
       "      <td>TN: DTF Social Protection Reforms Support</td>\n",
       "      <td>0</td>\n",
       "    </tr>\n",
       "    <tr>\n",
       "      <th>2</th>\n",
       "      <td>2013-11-01T00:00:00Z</td>\n",
       "      <td>Tuvalu</td>\n",
       "      <td>Tuvalu</td>\n",
       "      <td>[{'code': '5', 'name': 'Trade and integration'...</td>\n",
       "      <td>Tuvalu Aviation Investment Project - Additiona...</td>\n",
       "      <td>6060000</td>\n",
       "    </tr>\n",
       "    <tr>\n",
       "      <th>3</th>\n",
       "      <td>2013-10-31T00:00:00Z</td>\n",
       "      <td>Republic of Yemen</td>\n",
       "      <td>Yemen, Republic of</td>\n",
       "      <td>[{'code': '7', 'name': 'Social dev/gender/incl...</td>\n",
       "      <td>Gov't and Civil Society Organization Partnership</td>\n",
       "      <td>0</td>\n",
       "    </tr>\n",
       "    <tr>\n",
       "      <th>4</th>\n",
       "      <td>2013-10-31T00:00:00Z</td>\n",
       "      <td>Kingdom of Lesotho</td>\n",
       "      <td>Lesotho</td>\n",
       "      <td>[{'code': '5', 'name': 'Trade and integration'...</td>\n",
       "      <td>Second Private Sector Competitiveness and Econ...</td>\n",
       "      <td>13100000</td>\n",
       "    </tr>\n",
       "  </tbody>\n",
       "</table>\n",
       "</div>"
      ],
      "text/plain": [
       "      boardapprovaldate                              countryname  \\\n",
       "0  2013-11-12T00:00:00Z  Federal Democratic Republic of Ethiopia   \n",
       "1  2013-11-04T00:00:00Z                      Republic of Tunisia   \n",
       "2  2013-11-01T00:00:00Z                                   Tuvalu   \n",
       "3  2013-10-31T00:00:00Z                        Republic of Yemen   \n",
       "4  2013-10-31T00:00:00Z                       Kingdom of Lesotho   \n",
       "\n",
       "     countryshortname                                   mjtheme_namecode  \\\n",
       "0            Ethiopia  [{'code': '8', 'name': 'Human development'}, {...   \n",
       "1             Tunisia  [{'code': '1', 'name': 'Economic management'},...   \n",
       "2              Tuvalu  [{'code': '5', 'name': 'Trade and integration'...   \n",
       "3  Yemen, Republic of  [{'code': '7', 'name': 'Social dev/gender/incl...   \n",
       "4             Lesotho  [{'code': '5', 'name': 'Trade and integration'...   \n",
       "\n",
       "                                        project_name   totalamt  \n",
       "0  Ethiopia General Education Quality Improvement...  130000000  \n",
       "1          TN: DTF Social Protection Reforms Support          0  \n",
       "2  Tuvalu Aviation Investment Project - Additiona...    6060000  \n",
       "3   Gov't and Civil Society Organization Partnership          0  \n",
       "4  Second Private Sector Competitiveness and Econ...   13100000  "
      ]
     },
     "execution_count": 15,
     "metadata": {},
     "output_type": "execute_result"
    }
   ],
   "source": [
    "json_df_less.head(5)"
   ]
  }
 ],
 "metadata": {
  "kernelspec": {
   "display_name": "Python 3",
   "language": "python",
   "name": "python3"
  },
  "language_info": {
   "codemirror_mode": {
    "name": "ipython",
    "version": 3
   },
   "file_extension": ".py",
   "mimetype": "text/x-python",
   "name": "python",
   "nbconvert_exporter": "python",
   "pygments_lexer": "ipython3",
   "version": "3.6.5"
  }
 },
 "nbformat": 4,
 "nbformat_minor": 2
}
